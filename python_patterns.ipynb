{
  "nbformat": 4,
  "nbformat_minor": 0,
  "metadata": {
    "colab": {
      "name": "python_patterns.ipynb",
      "provenance": [],
      "authorship_tag": "ABX9TyPY4FYhVWOu20om4GbTvDO/",
      "include_colab_link": true
    },
    "kernelspec": {
      "name": "python3",
      "display_name": "Python 3"
    },
    "language_info": {
      "name": "python"
    }
  },
  "cells": [
    {
      "cell_type": "markdown",
      "metadata": {
        "id": "view-in-github",
        "colab_type": "text"
      },
      "source": [
        "<a href=\"https://colab.research.google.com/github/prathamgrover7/python-patterns/blob/main/python_patterns.ipynb\" target=\"_parent\"><img src=\"https://colab.research.google.com/assets/colab-badge.svg\" alt=\"Open In Colab\"/></a>"
      ]
    },
    {
      "cell_type": "markdown",
      "source": [
        "# Patterns"
      ],
      "metadata": {
        "id": "Yv0XQIbiLjVX"
      }
    },
    {
      "cell_type": "code",
      "source": [
        "n = int(input())\n",
        "rows = 1\n",
        "while rows <= n:\n",
        "  col = 1\n",
        "  while col<=n:\n",
        "    print(\"*\", end = '')\n",
        "    col = col + 1\n",
        "  rows = rows + 1\n",
        "  print()\n"
      ],
      "metadata": {
        "colab": {
          "base_uri": "https://localhost:8080/"
        },
        "id": "xbqMtvrw4guO",
        "outputId": "b64f2229-a80e-49d4-d664-29fc84a99968"
      },
      "execution_count": 9,
      "outputs": [
        {
          "output_type": "stream",
          "name": "stdout",
          "text": [
            "5\n",
            "*****\n",
            "*****\n",
            "*****\n",
            "*****\n",
            "*****\n"
          ]
        }
      ]
    },
    {
      "cell_type": "code",
      "source": [
        "n = int(input())\n",
        "row = 1\n",
        "while row<=n:\n",
        "  col = 1\n",
        "  while col<=n:\n",
        "    print(n - col + 1,end = '')\n",
        "    col = col + 1\n",
        "  row = row+1\n",
        "  print()"
      ],
      "metadata": {
        "colab": {
          "base_uri": "https://localhost:8080/"
        },
        "id": "eTbIO5PWJzT9",
        "outputId": "97fd14c1-f7dc-4274-8cf7-e29e389d83e5"
      },
      "execution_count": 11,
      "outputs": [
        {
          "output_type": "stream",
          "name": "stdout",
          "text": [
            "5\n",
            "54321\n",
            "54321\n",
            "54321\n",
            "54321\n",
            "54321\n"
          ]
        }
      ]
    },
    {
      "cell_type": "code",
      "source": [
        "n = int(input())\n",
        "row = 1\n",
        "while row<=n:\n",
        "  col = 1\n",
        "  while col<=n:\n",
        "    print(col + row - 1,end = '')\n",
        "    col = col + 1\n",
        "  row = row+1\n",
        "  print()"
      ],
      "metadata": {
        "colab": {
          "base_uri": "https://localhost:8080/"
        },
        "id": "WA0vxCD3H2eh",
        "outputId": "28232de9-e5ee-4ae8-92fc-ce878b21f350"
      },
      "execution_count": 8,
      "outputs": [
        {
          "output_type": "stream",
          "name": "stdout",
          "text": [
            "5\n",
            "12345\n",
            "23456\n",
            "34567\n",
            "45678\n",
            "56789\n"
          ]
        }
      ]
    },
    {
      "cell_type": "code",
      "source": [
        "n = int(input())\n",
        "rows = 1\n",
        "while rows<=n:\n",
        "  col = 1\n",
        "  while col <= rows:\n",
        "    print(rows, end = '')\n",
        "    col = col + 1\n",
        "    \n",
        "  rows = rows + 1\n",
        "  print()"
      ],
      "metadata": {
        "colab": {
          "base_uri": "https://localhost:8080/"
        },
        "id": "8NCdYkQDLrkY",
        "outputId": "a5132162-a88d-4aec-e3ef-607435f3da1b"
      },
      "execution_count": 17,
      "outputs": [
        {
          "output_type": "stream",
          "name": "stdout",
          "text": [
            "5\n",
            "1\n",
            "22\n",
            "333\n",
            "4444\n",
            "55555\n"
          ]
        }
      ]
    },
    {
      "cell_type": "code",
      "source": [
        "n = int(input())\n",
        "rows = 1\n",
        "while rows<=n:\n",
        "  col = 1\n",
        "  while col <= rows:\n",
        "    print(col, end = '')\n",
        "    col = col + 1\n",
        "    \n",
        "  rows = rows + 1\n",
        "  print()"
      ],
      "metadata": {
        "colab": {
          "base_uri": "https://localhost:8080/"
        },
        "id": "c5WIQMmHMmfk",
        "outputId": "1ce99432-f058-4c3f-e371-fba0be269e6e"
      },
      "execution_count": 7,
      "outputs": [
        {
          "output_type": "stream",
          "name": "stdout",
          "text": [
            "5\n",
            "1\n",
            "12\n",
            "123\n",
            "1234\n",
            "12345\n"
          ]
        }
      ]
    },
    {
      "cell_type": "code",
      "source": [
        "n = int(input())\n",
        "rows = 1\n",
        "while rows<=n:\n",
        "  col = 1\n",
        "  while col <=n:\n",
        "    print(chr(64+col),end = '')\n",
        "    col = col + 1\n",
        "  rows = rows + 1\n",
        "  print()"
      ],
      "metadata": {
        "colab": {
          "base_uri": "https://localhost:8080/"
        },
        "id": "uq049QqJ58MC",
        "outputId": "a2331a1c-550b-4b2a-8ccc-9da9399056e4"
      },
      "execution_count": 2,
      "outputs": [
        {
          "output_type": "stream",
          "name": "stdout",
          "text": [
            "5\n",
            "ABCDE\n",
            "ABCDE\n",
            "ABCDE\n",
            "ABCDE\n",
            "ABCDE\n"
          ]
        }
      ]
    },
    {
      "cell_type": "code",
      "source": [
        "n = int(input())\n",
        "rows = 1\n",
        "while rows<=n:\n",
        "  col = 1\n",
        "  while col<=n:\n",
        "    print(chr(64+col+rows-1),end = '')\n",
        "    col = col + 1\n",
        "  rows = rows + 1\n",
        "  print()\n"
      ],
      "metadata": {
        "colab": {
          "base_uri": "https://localhost:8080/"
        },
        "id": "1-V17n4T6gk5",
        "outputId": "e1d3482f-bea9-48dd-de7a-93ff37b8b839"
      },
      "execution_count": 6,
      "outputs": [
        {
          "output_type": "stream",
          "name": "stdout",
          "text": [
            "5\n",
            "ABCDE\n",
            "BCDEF\n",
            "CDEFG\n",
            "DEFGH\n",
            "EFGHI\n"
          ]
        }
      ]
    }
  ]
}